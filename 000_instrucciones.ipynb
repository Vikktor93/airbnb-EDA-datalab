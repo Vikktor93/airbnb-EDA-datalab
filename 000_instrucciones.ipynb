{
 "cells": [
  {
   "cell_type": "markdown",
   "id": "13a6de57",
   "metadata": {},
   "source": [
    "## 🐍 **Mini Proyecto Final: Análisis Exploratorio de Datos (EDA) en Python**\n",
    "\n",
    "###  **Contexto**\n",
    "\n",
    "En este proyecto aplicaremos todos los contenidos vistos en el curso de **Python para Data Science**, realizando un **Análisis Exploratorio de Datos (EDA)** completo sobre un dataset real.\n",
    "\n",
    "Como **ejemplo guiado en clases**, trabajaremos con el dataset **Airbnb NYC 2019**.  Sin embargo, cada estudiante podrá **elegir su propio dataset** (de Kaggle, datos.gob.cl, UCI Machine Learning Repository, etc), siempre que cumpla con las siguientes condiciones:\n",
    "\n",
    "- Debe contener al menos **1 variable categórica** y **2 variables numéricas**.  \n",
    "- Idealmente debe incluir **más de 1.000 filas** para permitir un análisis significativo.  \n",
    "- Se recomienda que esté en formato `.csv` para facilitar la carga con `pandas`.\n",
    "\n",
    "---\n",
    "\n",
    "###  **Objetivos de Aprendizaje**\n",
    "\n",
    "Al finalizar este análisis, serán capaces de:\n",
    "\n",
    "1. **Aplicar técnicas de limpieza de datos** (detección y tratamiento de nulos, eliminación de columnas irrelevantes, manejo de outliers).  \n",
    "2. **Explorar variables categóricas y numéricas** con `pandas`, `matplotlib`, `seaborn` y `plotly`.  \n",
    "3. **Analizar patrones geográficos o temporales** (si el dataset lo permite) con herramientas interactivas.  \n",
    "4. **Interpretar correlaciones** entre variables y justificar hallazgos.  \n",
    "5. **Comunicar resultados** a través de gráficos claros y explicaciones fundamentadas.\n",
    "\n",
    "---\n",
    "\n",
    "###  **Entregables**\n",
    "\n",
    "- Un notebook `.ipynb` con:\n",
    "  - Limpieza del dataset elegido.  \n",
    "  - Análisis exploratorio con visualizaciones.  \n",
    "  - Hallazgos y conclusiones finales.  \n",
    "- El dataset utilizado (o un link a la fuente).  \n",
    "- Enlace del Repositorio en GitHub/GitLab\n"
   ]
  },
  {
   "cell_type": "markdown",
   "id": "f2f466bb",
   "metadata": {},
   "source": [
    "## 📊 Rúbrica de Evaluación del EDA (30 pts)\n",
    "\n",
    "| Criterio                          | Excelente (5) | Bueno (3-4) | Insuficiente (1-2) | Puntaje |\n",
    "|----------------------------------|---------------|-------------|---------------------|---------|\n",
    "| **Limpieza de Datos (5 pts)**    | Maneja nulos, elimina/transforma columnas irrelevantes y justifica las decisiones. | Realiza limpieza básica, pero con poca justificación. | No maneja nulos ni outliers. | /5 |\n",
    "| **Exploración Categórica (5 pts)** | Gráficos claros, interpreta distribuciones y diferencias | Presenta gráficos pero sin mucha interpretación. | Gráficos incompletos o erróneos. | /5 |\n",
    "| **Exploración Numérica (5 pts)**  | Usa histogramas, boxplots y detecta outliers con claridad. | Muestra algunos gráficos sin análisis detallado. | No analiza variables numéricas. | /5 |\n",
    "| **Análisis Geográfico (5 pts)**   | Muestra mapa interactivo con insights relevantes. | Muestra mapa sin mucha interpretación. | No utiliza mapa. | /5 |\n",
    "| **Correlaciones (5 pts)**         | Interpreta correctamente relaciones entre variables numéricas. | Calcula correlaciones pero sin mayor análisis. | No presenta correlaciones. | /5 |\n",
    "| **Hallazgos y Narrativa (5 pts)** | Conecta visualizaciones con conclusiones claras y estructuradas. | Presenta conclusiones generales. | No presenta hallazgos claros. | /5 |\n",
    "\n",
    "**Puntaje Total: /30**\n"
   ]
  }
 ],
 "metadata": {
  "language_info": {
   "name": "python"
  }
 },
 "nbformat": 4,
 "nbformat_minor": 5
}
